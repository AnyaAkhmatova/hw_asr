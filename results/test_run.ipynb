{
  "nbformat": 4,
  "nbformat_minor": 0,
  "metadata": {
    "colab": {
      "provenance": [],
      "gpuType": "T4"
    },
    "kernelspec": {
      "name": "python3",
      "display_name": "Python 3"
    },
    "language_info": {
      "name": "python"
    },
    "accelerator": "GPU"
  },
  "cells": [
    {
      "cell_type": "code",
      "source": [
        "from google.colab import drive\n",
        "drive.mount('/content/drive')"
      ],
      "metadata": {
        "colab": {
          "base_uri": "https://localhost:8080/"
        },
        "id": "uQWryHFChZ4D",
        "outputId": "5982e581-c445-4579-d8c6-cf94b50a59b9"
      },
      "execution_count": 1,
      "outputs": [
        {
          "output_type": "stream",
          "name": "stdout",
          "text": [
            "Mounted at /content/drive\n"
          ]
        }
      ]
    },
    {
      "cell_type": "code",
      "source": [
        "!cp /content/drive/MyDrive/dla_hw1/asr_project_template_zipped.zip .\n",
        "!unzip asr_project_template_zipped.zip\n",
        "!sudo apt-get install -y rubberband-cli\n",
        "!pip install -r ./asr_project_template/requirements.txt\n",
        "!pip install ./asr_project_template/.\n",
        "!cp /content/drive/MyDrive/dla_hw1/final_all.zip .\n",
        "!unzip final_all.zip"
      ],
      "metadata": {
        "id": "6xk-LJaohagM"
      },
      "execution_count": null,
      "outputs": []
    },
    {
      "cell_type": "code",
      "source": [
        "!python3 /content/asr_project_template/test.py --resume /content/final_all/model_best.pth -c /content/final_all/config_test.json"
      ],
      "metadata": {
        "colab": {
          "base_uri": "https://localhost:8080/"
        },
        "id": "6Jo2haY15nSS",
        "outputId": "9d0515d6-b983-4e56-9636-7911429b845b"
      },
      "execution_count": 5,
      "outputs": [
        {
          "output_type": "stream",
          "name": "stdout",
          "text": [
            "Loading part test-clean\n",
            "Downloading https://www.openslr.org/resources/12/test-clean.tar.gz to /content/asr_project_template/data/datasets/librispeech/test-clean.tar.gz\n",
            "test-clean.tar.gz: 347MB [00:02, 158MB/s]               \n",
            "Preparing librispeech folders: test-clean: 100% 87/87 [00:07<00:00, 11.72it/s]\n",
            "0 (0.0%) records are longer then 100.0 seconds. Excluding them.\n",
            "0 (0.0%) records are longer then 1000 characters. Excluding them.\n",
            "/usr/local/lib/python3.10/dist-packages/torch/utils/data/dataloader.py:557: UserWarning: This DataLoader will create 5 worker processes in total. Our suggested max number of worker in current system is 2, which is smaller than what this DataLoader is going to create. Please be aware that excessive worker creation might get DataLoader running slow or even freeze, lower the worker number to avoid potential slowness/freeze if necessary.\n",
            "  warnings.warn(_create_warning_msg(\n",
            "Loading part test-other\n",
            "Downloading https://www.openslr.org/resources/12/test-other.tar.gz to /content/asr_project_template/data/datasets/librispeech/test-other.tar.gz\n",
            "test-other.tar.gz: 329MB [00:02, 125MB/s]               \n",
            "Preparing librispeech folders: test-other: 100% 90/90 [00:07<00:00, 12.77it/s]\n",
            "0 (0.0%) records are longer then 100.0 seconds. Excluding them.\n",
            "0 (0.0%) records are longer then 1000 characters. Excluding them.\n",
            "DeepSpeech2(\n",
            "  (convs): Sequential(\n",
            "    (0): Conv2d(1, 32, kernel_size=(41, 11), stride=(2, 2), bias=False)\n",
            "    (1): BatchNorm2d(32, eps=1e-05, momentum=0.1, affine=True, track_running_stats=True)\n",
            "    (2): ReLU()\n",
            "    (3): Conv2d(32, 32, kernel_size=(21, 11), stride=(2, 1), bias=False)\n",
            "    (4): BatchNorm2d(32, eps=1e-05, momentum=0.1, affine=True, track_running_stats=True)\n",
            "    (5): ReLU()\n",
            "    (6): Conv2d(32, 96, kernel_size=(21, 11), stride=(2, 1), bias=False)\n",
            "    (7): BatchNorm2d(96, eps=1e-05, momentum=0.1, affine=True, track_running_stats=True)\n",
            "    (8): ReLU()\n",
            "  )\n",
            "  (rnns): Sequential(\n",
            "    (0): RNN_with_BN(\n",
            "      (bn): BatchNorm1d(576, eps=1e-05, momentum=0.1, affine=True, track_running_stats=True)\n",
            "      (rnn): GRU(576, 800, batch_first=True, bidirectional=True)\n",
            "    )\n",
            "    (1): RNN_with_BN(\n",
            "      (bn): BatchNorm1d(800, eps=1e-05, momentum=0.1, affine=True, track_running_stats=True)\n",
            "      (rnn): GRU(800, 800, batch_first=True, bidirectional=True)\n",
            "    )\n",
            "    (2): RNN_with_BN(\n",
            "      (bn): BatchNorm1d(800, eps=1e-05, momentum=0.1, affine=True, track_running_stats=True)\n",
            "      (rnn): GRU(800, 800, batch_first=True, bidirectional=True)\n",
            "    )\n",
            "    (3): RNN_with_BN(\n",
            "      (bn): BatchNorm1d(800, eps=1e-05, momentum=0.1, affine=True, track_running_stats=True)\n",
            "      (rnn): GRU(800, 800, batch_first=True, bidirectional=True)\n",
            "    )\n",
            "    (4): RNN_with_BN(\n",
            "      (bn): BatchNorm1d(800, eps=1e-05, momentum=0.1, affine=True, track_running_stats=True)\n",
            "      (rnn): GRU(800, 800, batch_first=True, bidirectional=True)\n",
            "    )\n",
            "  )\n",
            "  (fc): Linear(in_features=800, out_features=28, bias=True)\n",
            ")\n",
            "Trainable parameters: 38363708\n",
            "Loading checkpoint: /content/final_all/model_best.pth ...\n",
            "100% 131/131 [1:36:46<00:00, 44.32s/it]\n",
            "100% 147/147 [1:33:37<00:00, 38.21s/it]\n",
            "test-clean: wer (argmax) = 0.3384724309781591, wer (ctc_beam_search) = 0.32759457361201527, cer (argmax) = 0.11087391707763049, cer (ctc_beam_search) = 0.10782303549931747,\n",
            "test-other: wer (argmax) = 0.5609493959133318, wer (ctc_beam_search) = 0.5548816673067045, cer (argmax) = 0.23319069026993902, cer (ctc_beam_search) = 0.23160599191116957,\n"
          ]
        }
      ]
    },
    {
      "cell_type": "markdown",
      "source": [
        "____"
      ],
      "metadata": {
        "id": "RRf1Z97N2V83"
      }
    },
    {
      "cell_type": "code",
      "source": [
        "# https://drive.google.com/file/d/1Sq75yl6IiEctGDab339BBxjfuuf87nVm/view?usp=sharing\n",
        "# https://drive.google.com/file/d/14p2h3wzOQfOC-una8g1ITvVOIhd-yX5L/view?usp=sharing\n",
        "\n",
        "\n",
        "!pip install gdown\n",
        "!gdown https://drive.google.com/uc?id=1Sq75yl6IiEctGDab339BBxjfuuf87nVm\n",
        "!gdown https://drive.google.com/uc?id=14p2h3wzOQfOC-una8g1ITvVOIhd-yX5L"
      ],
      "metadata": {
        "id": "DZxknON9wMaV"
      },
      "execution_count": null,
      "outputs": []
    },
    {
      "cell_type": "code",
      "source": [
        "!unzip asr_project_template.zip\n",
        "!sudo apt-get install rubberband-cli\n",
        "!pip install -r ./asr_project_template/requirements.txt\n",
        "!pip install ./asr_project_template/."
      ],
      "metadata": {
        "id": "uQZgchZwyL4N"
      },
      "execution_count": null,
      "outputs": []
    },
    {
      "cell_type": "code",
      "source": [
        "import wandb\n",
        "\n",
        "wandb.login()"
      ],
      "metadata": {
        "id": "J7_D8iU00KK9"
      },
      "execution_count": null,
      "outputs": []
    },
    {
      "cell_type": "code",
      "source": [
        "!python3 ./asr_project_template/train.py -c ./asr_project_template/hw_asr/configs/train_config_librispeech_all.json"
      ],
      "metadata": {
        "id": "qngfVkjB0PID"
      },
      "execution_count": null,
      "outputs": []
    },
    {
      "cell_type": "code",
      "source": [
        "!unzip final_model.zip"
      ],
      "metadata": {
        "id": "bj9xbQln1Ivk"
      },
      "execution_count": null,
      "outputs": []
    },
    {
      "cell_type": "code",
      "source": [
        "!python3 ./asr_project_template/test.py --resume ./final_model/final_all/model_best.pth -c ./final_model/final_all/config_test.json"
      ],
      "metadata": {
        "id": "esKZraj608d7"
      },
      "execution_count": null,
      "outputs": []
    }
  ]
}